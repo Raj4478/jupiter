{
 "cells": [
  {
   "cell_type": "markdown",
   "id": "a529e38f",
   "metadata": {},
   "source": [
    "## Numpy Array Operations\n"
   ]
  },
  {
   "cell_type": "code",
   "execution_count": 1,
   "id": "df8960d7",
   "metadata": {},
   "outputs": [],
   "source": [
    "import numpy as np"
   ]
  },
  {
   "cell_type": "code",
   "execution_count": 2,
   "id": "35d729e6",
   "metadata": {},
   "outputs": [
    {
     "name": "stdout",
     "output_type": "stream",
     "text": [
      "Basic slicing [3 4 5 6 7]\n",
      "Slicing with step [3 5 7]\n",
      "with negative indexing [5 6 7 8]\n"
     ]
    }
   ],
   "source": [
    "arr = np.array([1,2,3,4,5,6,7,8,9])\n",
    "print(\"Basic slicing\", arr[2:7])\n",
    "print(\"Slicing with step\", arr[2:8:2])\n",
    "print(\"with negative indexing\", arr[-5:-1])"
   ]
  },
  {
   "cell_type": "code",
   "execution_count": 3,
   "id": "a3960dca",
   "metadata": {},
   "outputs": [
    {
     "name": "stdout",
     "output_type": "stream",
     "text": [
      "specific element 3\n",
      "entire row [ 6  7  8  9 10]\n",
      "entire row [ 2  7 12]\n"
     ]
    }
   ],
   "source": [
    "arr_2d = np.array([[1,2,3,4,5],[6,7,8,9,10],[11,12,13,14,15]])\n",
    "print(\"specific element\", arr_2d[0,2])\n",
    "print(\"entire row\", arr_2d[1])\n",
    "print(\"entire row\", arr_2d[:, 1])"
   ]
  },
  {
   "cell_type": "markdown",
   "id": "0b201643",
   "metadata": {},
   "source": [
    "### Sorting\n"
   ]
  },
  {
   "cell_type": "code",
   "execution_count": 4,
   "id": "f04caa0f",
   "metadata": {},
   "outputs": [
    {
     "name": "stdout",
     "output_type": "stream",
     "text": [
      "Sorted Array [1 2 3 4 6 7 9 9]\n",
      "sorted 2d array by column [[3 4 1]\n",
      " [6 5 2]\n",
      " [9 7 8]]\n"
     ]
    }
   ],
   "source": [
    "unsorted = np.array([3,7,1,9,4,2,9,6])\n",
    "print(\"Sorted Array\",np.sort(unsorted))\n",
    "\n",
    "arr_2d_unsorted = np.array([[3,7,1],\n",
    "                            [9,4,2],\n",
    "                            [6,5,8]])\n",
    "print(\"sorted 2d array by column\", np.sort(arr_2d_unsorted, axis=0))\n"
   ]
  },
  {
   "cell_type": "markdown",
   "id": "ac8ee3b0",
   "metadata": {},
   "source": [
    "### special"
   ]
  },
  {
   "cell_type": "code",
   "execution_count": 6,
   "id": "7e3f327b",
   "metadata": {},
   "outputs": [
    {
     "name": "stdout",
     "output_type": "stream",
     "text": [
      "Even numbers: [ 2  4  6  8 10]\n"
     ]
    }
   ],
   "source": [
    "numbers = np.array([1,2,3,4,5,6,7,8,9,10])\n",
    "even_numbers = numbers[numbers % 2 == 0]\n",
    "print(\"Even numbers:\", even_numbers)\n"
   ]
  },
  {
   "cell_type": "code",
   "execution_count": 7,
   "id": "a5a78cb5",
   "metadata": {},
   "outputs": [
    {
     "name": "stdout",
     "output_type": "stream",
     "text": [
      "Numbers greater than 5: [ 6  7  8  9 10]\n"
     ]
    }
   ],
   "source": [
    "mask = numbers > 5\n",
    "print(\"Numbers greater than 5:\", numbers[mask])"
   ]
  },
  {
   "cell_type": "code",
   "execution_count": 11,
   "id": "4d2fa136",
   "metadata": {},
   "outputs": [
    {
     "name": "stdout",
     "output_type": "stream",
     "text": [
      "Elements at indices 0, 2, and 4: [1 3 5]\n",
      "Indices of elements greater than 5: [ 6  7  8  9 10]\n"
     ]
    }
   ],
   "source": [
    "indices = [0, 2, 4]\n",
    "print(\"Elements at indices 0, 2, and 4:\", numbers[indices])\n",
    "\n",
    "where_result = np.where(numbers > 5)\n",
    "print(\"Indices of elements greater than 5:\", numbers[where_result])"
   ]
  },
  {
   "cell_type": "code",
   "execution_count": 14,
   "id": "0214b2ab",
   "metadata": {},
   "outputs": [
    {
     "name": "stdout",
     "output_type": "stream",
     "text": [
      "Condition array (True for >5): [False False False False False  True  True  True  True  True]\n"
     ]
    }
   ],
   "source": [
    "condition_array = np.where(numbers > 5, True, False)\n",
    "print(\"Condition array (True for >5):\", condition_array)"
   ]
  },
  {
   "cell_type": "code",
   "execution_count": null,
   "id": "da659089",
   "metadata": {},
   "outputs": [],
   "source": [
    "arr1 = np.array([1,2,3])\n",
    "arr2 = np.array([4,5,6])\n",
    "combined = np.concatenate((arr1, arr2))\n",
    "print(\"Combined array:\", combined)"
   ]
  },
  {
   "cell_type": "code",
   "execution_count": 16,
   "id": "8430981a",
   "metadata": {},
   "outputs": [
    {
     "name": "stdout",
     "output_type": "stream",
     "text": [
      "compatibilty shapes True\n"
     ]
    }
   ],
   "source": [
    "a = np.array([1, 2, 3])\n",
    "b = np.array([4, 5, 6])\n",
    "c = np.array([7, 8, 9])\n",
    "print(\"compatibilty shapes\", a.shape == b.shape)"
   ]
  },
  {
   "cell_type": "code",
   "execution_count": 19,
   "id": "667a0f4e",
   "metadata": {},
   "outputs": [
    {
     "name": "stdout",
     "output_type": "stream",
     "text": [
      "Array after adding new row:\n",
      " [[1 2 3]\n",
      " [4 5 6]\n",
      " [7 8 9]]\n",
      "Array after adding new column:\n",
      " [[ 1  2  3 10]\n",
      " [ 4  5  6 11]\n",
      " [ 7  8  9 12]]\n"
     ]
    }
   ],
   "source": [
    "original = np.array([[1, 2, 3], [4, 5, 6]])\n",
    "new_row = np.array([[7, 8, 9]])\n",
    "\n",
    "with_new_row = np.vstack([original, new_row])\n",
    "print(\"Array after adding new row:\\n\", with_new_row)    \n",
    "\n",
    "new_column = np.array([[10], [11], [12]])\n",
    "with_new_column = np.hstack([with_new_row, new_column])\n",
    "print(\"Array after adding new column:\\n\", with_new_column)"
   ]
  },
  {
   "cell_type": "code",
   "execution_count": 20,
   "id": "a16b5f9c",
   "metadata": {},
   "outputs": [
    {
     "name": "stdout",
     "output_type": "stream",
     "text": [
      "Array after deletion [2 3 4 5 7 8 9]\n"
     ]
    }
   ],
   "source": [
    "arr = np.array([1,2,3,4,5,6,7,8,9])\n",
    "deleted = np.delete(arr, [0,5])\n",
    "print(\"Array after deletion\", deleted)"
   ]
  },
  {
   "cell_type": "code",
   "execution_count": null,
   "id": "4f448f61",
   "metadata": {},
   "outputs": [],
   "source": []
  }
 ],
 "metadata": {
  "kernelspec": {
   "display_name": "venv (3.12.1)",
   "language": "python",
   "name": "python3"
  },
  "language_info": {
   "codemirror_mode": {
    "name": "ipython",
    "version": 3
   },
   "file_extension": ".py",
   "mimetype": "text/x-python",
   "name": "python",
   "nbconvert_exporter": "python",
   "pygments_lexer": "ipython3",
   "version": "3.12.1"
  }
 },
 "nbformat": 4,
 "nbformat_minor": 5
}
