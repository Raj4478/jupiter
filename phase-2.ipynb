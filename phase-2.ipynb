{
 "cells": [
  {
   "cell_type": "markdown",
   "id": "a529e38f",
   "metadata": {},
   "source": [
    "## Numpy Array Operations\n"
   ]
  },
  {
   "cell_type": "code",
   "execution_count": 2,
   "id": "df8960d7",
   "metadata": {},
   "outputs": [],
   "source": [
    "import numpy as np"
   ]
  },
  {
   "cell_type": "code",
   "execution_count": 6,
   "id": "35d729e6",
   "metadata": {},
   "outputs": [
    {
     "name": "stdout",
     "output_type": "stream",
     "text": [
      "Basic slicing [3 4 5 6 7]\n",
      "Slicing with step [3 5 7]\n",
      "with negative indexing [5 6 7 8]\n"
     ]
    }
   ],
   "source": [
    "arr = np.array([1,2,3,4,5,6,7,8,9])\n",
    "print(\"Basic slicing\", arr[2:7])\n",
    "print(\"Slicing with step\", arr[2:8:2])\n",
    "print(\"with negative indexing\", arr[-5:-1])"
   ]
  },
  {
   "cell_type": "code",
   "execution_count": 15,
   "id": "a3960dca",
   "metadata": {},
   "outputs": [
    {
     "name": "stdout",
     "output_type": "stream",
     "text": [
      "specific element 3\n",
      "entire row [ 6  7  8  9 10]\n",
      "entire row [ 2  7 12]\n"
     ]
    }
   ],
   "source": [
    "arr_2d = np.array([[1,2,3,4,5],[6,7,8,9,10],[11,12,13,14,15]])\n",
    "print(\"specific element\", arr_2d[0,2])\n",
    "print(\"entire row\", arr_2d[1])\n",
    "print(\"entire row\", arr_2d[:, 1])"
   ]
  },
  {
   "cell_type": "markdown",
   "id": "0b201643",
   "metadata": {},
   "source": [
    "### Sorting\n"
   ]
  },
  {
   "cell_type": "code",
   "execution_count": 17,
   "id": "f04caa0f",
   "metadata": {},
   "outputs": [
    {
     "name": "stdout",
     "output_type": "stream",
     "text": [
      "Sorted Array [1 2 3 4 6 7 9 9]\n",
      "sorted 2d array by column [[3 4 1]\n",
      " [6 5 2]\n",
      " [9 7 8]]\n"
     ]
    }
   ],
   "source": [
    "unsorted = np.array([3,7,1,9,4,2,9,6])\n",
    "print(\"Sorted Array\",np.sort(unsorted))\n",
    "\n",
    "arr_2d_unsorted = np.array([[3,7,1],\n",
    "                            [9,4,2],\n",
    "                            [6,5,8]])\n",
    "print(\"sorted 2d array by column\", np.sort(arr_2d_unsorted, axis=0))\n"
   ]
  },
  {
   "cell_type": "markdown",
   "id": "ac8ee3b0",
   "metadata": {},
   "source": [
    "### special"
   ]
  }
 ],
 "metadata": {
  "kernelspec": {
   "display_name": "venv (3.12.1)",
   "language": "python",
   "name": "python3"
  },
  "language_info": {
   "codemirror_mode": {
    "name": "ipython",
    "version": 3
   },
   "file_extension": ".py",
   "mimetype": "text/x-python",
   "name": "python",
   "nbconvert_exporter": "python",
   "pygments_lexer": "ipython3",
   "version": "3.12.1"
  }
 },
 "nbformat": 4,
 "nbformat_minor": 5
}
