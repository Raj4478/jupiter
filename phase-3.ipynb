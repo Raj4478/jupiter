{
 "cells": [
  {
   "cell_type": "code",
   "execution_count": 4,
   "id": "a0406d61",
   "metadata": {},
   "outputs": [],
   "source": [
    "import numpy as np\n",
    "import matplotlib.pyplot as plt"
   ]
  },
  {
   "cell_type": "code",
   "execution_count": 8,
   "id": "18e0d42d",
   "metadata": {},
   "outputs": [
    {
     "name": "stdout",
     "output_type": "stream",
     "text": [
      "===== Sales Data =====\n",
      "(5, 4)\n",
      "[[    1 15000 18000 25000]\n",
      " [    2 12000 14000 19000]\n",
      " [    2 20000 23000 30000]]\n"
     ]
    }
   ],
   "source": [
    "sales_data = np.array([[1, 15000, 18000, 25000],\n",
    "                      [2,12000, 14000, 19000],\n",
    "                      [2, 20000, 23000, 30000],\n",
    "                      [3, 18000, 21000, 27000],\n",
    "                      [4, 16000, 20500, 23000]])\n",
    "\n",
    "print(\"===== Sales Data =====\")\n",
    "print(sales_data.shape)\n",
    "print(sales_data[:3,])"
   ]
  },
  {
   "cell_type": "code",
   "execution_count": 10,
   "id": "84d31848",
   "metadata": {},
   "outputs": [
    {
     "name": "stdout",
     "output_type": "stream",
     "text": [
      "\n",
      " ======== Total Sales ========\n",
      "[58000 45000 73000 66000 59500]\n"
     ]
    }
   ],
   "source": [
    "print(\"\\n ======== Total Sales ========\")\n",
    "print(sales_data[:, 1:].sum(axis=1))"
   ]
  },
  {
   "cell_type": "code",
   "execution_count": 12,
   "id": "4f4a8ca9",
   "metadata": {},
   "outputs": [
    {
     "name": "stdout",
     "output_type": "stream",
     "text": [
      "[15000 12000 20000 18000 16000]\n"
     ]
    }
   ],
   "source": [
    "print(sales_data[:, 1:].min(axis=1))"
   ]
  },
  {
   "cell_type": "code",
   "execution_count": 14,
   "id": "3f8f512d",
   "metadata": {},
   "outputs": [
    {
     "name": "stdout",
     "output_type": "stream",
     "text": [
      "Average sales per region: [19333.33333333 15000.         24333.33333333 22000.\n",
      " 19833.33333333]\n"
     ]
    }
   ],
   "source": [
    "avg_sales = np.mean(sales_data[:, 1:], axis=1)\n",
    "print(\"Average sales per region:\", avg_sales)"
   ]
  }
 ],
 "metadata": {
  "kernelspec": {
   "display_name": "venv (3.12.1)",
   "language": "python",
   "name": "python3"
  },
  "language_info": {
   "codemirror_mode": {
    "name": "ipython",
    "version": 3
   },
   "file_extension": ".py",
   "mimetype": "text/x-python",
   "name": "python",
   "nbconvert_exporter": "python",
   "pygments_lexer": "ipython3",
   "version": "3.12.1"
  }
 },
 "nbformat": 4,
 "nbformat_minor": 5
}
