{
 "cells": [
  {
   "cell_type": "code",
   "execution_count": 2,
   "id": "42d681d2",
   "metadata": {},
   "outputs": [],
   "source": [
    "## Numpy array and basics"
   ]
  },
  {
   "cell_type": "code",
   "execution_count": 1,
   "id": "2a99b221",
   "metadata": {},
   "outputs": [],
   "source": [
    "import numpy as np"
   ]
  },
  {
   "cell_type": "code",
   "execution_count": 5,
   "id": "8791d0b1",
   "metadata": {},
   "outputs": [],
   "source": [
    "## creating array from list"
   ]
  },
  {
   "cell_type": "code",
   "execution_count": 2,
   "id": "d7719982",
   "metadata": {},
   "outputs": [
    {
     "name": "stdout",
     "output_type": "stream",
     "text": [
      "1D Array: [1 2 3 4 5]\n",
      "2D Array: [[1 2 3 4 5]\n",
      " [1 2 3 4 5]]\n"
     ]
    }
   ],
   "source": [
    "arr_1d = np.array([1, 2, 3, 4, 5])\n",
    "print(\"1D Array:\", arr_1d)\n",
    "\n",
    "\n",
    "arr_2d = np.array([[1,2,3,4,5],[1,2,3,4,5]])\n",
    "print(\"2D Array:\", arr_2d)"
   ]
  },
  {
   "cell_type": "markdown",
   "id": "4f3d5e07",
   "metadata": {},
   "source": [
    "### List vs Numpy"
   ]
  },
  {
   "cell_type": "code",
   "execution_count": 3,
   "id": "aac76e92",
   "metadata": {},
   "outputs": [
    {
     "name": "stdout",
     "output_type": "stream",
     "text": [
      "python list multiplication [1, 2, 3, 1, 2, 3]\n",
      "numpy array multiplication [2 4 6]\n",
      "python list time 0.0005519390106201172\n",
      "numpy array time 0.0009663105010986328\n"
     ]
    }
   ],
   "source": [
    "py_list = [1,2,3]\n",
    "print(\"python list multiplication\", py_list*2)\n",
    "\n",
    "np_array = np.array([1,2,3])\n",
    "print(\"numpy array multiplication\", np_array*2)\n",
    "\n",
    "\n",
    "import time\n",
    "\n",
    "start = time.time()\n",
    "py_list = [i*2 for i in range(10000)]\n",
    "print(\"python list time\", time.time()-start)\n",
    "\n",
    "start = time.time()\n",
    "np_array = np.array([i for i in range(10000)])\n",
    "np_array = np_array * 2\n",
    "print(\"numpy array time\", time.time()-start)"
   ]
  },
  {
   "cell_type": "markdown",
   "id": "da1b86f2",
   "metadata": {},
   "source": [
    "### creating array from scratch\n"
   ]
  },
  {
   "cell_type": "code",
   "execution_count": 19,
   "id": "d41242e3",
   "metadata": {},
   "outputs": [
    {
     "name": "stdout",
     "output_type": "stream",
     "text": [
      "zeroes array [[0. 0. 0. 0.]\n",
      " [0. 0. 0. 0.]\n",
      " [0. 0. 0. 0.]]\n",
      "ones array [[1. 1. 1.]\n",
      " [1. 1. 1.]]\n",
      "full array [[6 6 6 6 6 6]\n",
      " [6 6 6 6 6 6]\n",
      " [6 6 6 6 6 6]\n",
      " [6 6 6 6 6 6]\n",
      " [6 6 6 6 6 6]\n",
      " [6 6 6 6 6 6]]\n",
      "random array [[0.69840455 0.84900273 0.80354554]\n",
      " [0.24932491 0.42622514 0.70799919]]\n",
      "sequence array [0 2 4 6 8]\n"
     ]
    }
   ],
   "source": [
    "zeroes  = np.zeros((3, 4))\n",
    "print(\"zeroes array\", zeroes)\n",
    "\n",
    "\n",
    "ones = np.ones((2,3))\n",
    "print(\"ones array\", ones)\n",
    "\n",
    "\n",
    "full = np.full((6,6), 6)\n",
    "print(\"full array\", full)\n",
    "\n",
    "\n",
    "random = np.random.random((2,3))\n",
    "print(\"random array\", random)\n",
    "\n",
    "sequence = np.arange(0, 10, 2)\n",
    "print(\"sequence array\", sequence)"
   ]
  },
  {
   "cell_type": "markdown",
   "id": "1ea9d54e",
   "metadata": {},
   "source": [
    "## Vector and Tensor"
   ]
  },
  {
   "cell_type": "code",
   "execution_count": 5,
   "id": "91a451e1",
   "metadata": {},
   "outputs": [
    {
     "name": "stdout",
     "output_type": "stream",
     "text": [
      "vector [1 2 3]\n",
      "tensor [[[1 2 3]\n",
      "  [1 2 3]]\n",
      "\n",
      " [[1 2 3]\n",
      "  [1 2 3]]\n",
      "\n",
      " [[1 2 3]\n",
      "  [1 2 3]]]\n"
     ]
    }
   ],
   "source": [
    "vector = np.array([1,2,3])\n",
    "print(\"vector\", vector)\n",
    "\n",
    "tensor = np.array([[[1,2,3],[1,2,3]],[[1,2,3],[1,2,3]],[[1,2,3],[1,2,3]]])\n",
    "\n",
    "print(\"tensor\", tensor)"
   ]
  },
  {
   "cell_type": "markdown",
   "id": "7df21fff",
   "metadata": {},
   "source": [
    "### Array Properties"
   ]
  },
  {
   "cell_type": "code",
   "execution_count": 6,
   "id": "2764dc83",
   "metadata": {},
   "outputs": [
    {
     "name": "stdout",
     "output_type": "stream",
     "text": [
      "shape of arr (2, 3)\n",
      "number of dimensions 2\n",
      "size of array 6\n",
      "data type int64\n"
     ]
    }
   ],
   "source": [
    "arr = np.array([[1,2,3],[4,5,6]])\n",
    "print(\"shape of arr\", arr.shape)\n",
    "\n",
    "print(\"number of dimensions\", arr.ndim)\n",
    "\n",
    "print(\"size of array\", arr.size)\n",
    "\n",
    "print (\"data type\", arr.dtype)"
   ]
  },
  {
   "cell_type": "markdown",
   "id": "c76da714",
   "metadata": {},
   "source": [
    "### Array Reshaping"
   ]
  },
  {
   "cell_type": "code",
   "execution_count": 11,
   "id": "9cf99f1f",
   "metadata": {},
   "outputs": [
    {
     "name": "stdout",
     "output_type": "stream",
     "text": [
      "Original array [ 0  1  2  3  4  5  6  7  8  9 10 11]\n",
      "Reshaped array [[ 0  1  2  3]\n",
      " [ 4  5  6  7]\n",
      " [ 8  9 10 11]]\n",
      "Flattened array [ 0  1  2  3  4  5  6  7  8  9 10 11]\n",
      "Ravelled array [ 0  1  2  3  4  5  6  7  8  9 10 11]\n",
      "Transposed array [[ 0  4  8]\n",
      " [ 1  5  9]\n",
      " [ 2  6 10]\n",
      " [ 3  7 11]]\n"
     ]
    }
   ],
   "source": [
    "arr = np.arange(12)\n",
    "print(\"Original array\", arr)\n",
    "\n",
    "reshaped = arr.reshape((3,4))\n",
    "print(\"Reshaped array\", reshaped)\n",
    "\n",
    "flattened = reshaped.flatten()\n",
    "print(\"Flattened array\", flattened)\n",
    "\n",
    "# returns view instead of copy\n",
    "ravelled = reshaped.ravel()\n",
    "print(\"Ravelled array\", ravelled)\n",
    "\n",
    "\n",
    "#transpose\n",
    "\n",
    "transpose = reshaped.T\n",
    "print(\"Transposed array\", transpose)"
   ]
  }
 ],
 "metadata": {
  "kernelspec": {
   "display_name": "venv (3.12.1)",
   "language": "python",
   "name": "python3"
  },
  "language_info": {
   "codemirror_mode": {
    "name": "ipython",
    "version": 3
   },
   "file_extension": ".py",
   "mimetype": "text/x-python",
   "name": "python",
   "nbconvert_exporter": "python",
   "pygments_lexer": "ipython3",
   "version": "3.12.1"
  }
 },
 "nbformat": 4,
 "nbformat_minor": 5
}
