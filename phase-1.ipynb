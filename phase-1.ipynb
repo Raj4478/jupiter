{
 "cells": [
  {
   "cell_type": "code",
   "execution_count": 2,
   "id": "42d681d2",
   "metadata": {},
   "outputs": [],
   "source": [
    "## Numpy array and basics"
   ]
  },
  {
   "cell_type": "code",
   "execution_count": 1,
   "id": "2a99b221",
   "metadata": {},
   "outputs": [],
   "source": [
    "import numpy as np"
   ]
  },
  {
   "cell_type": "code",
   "execution_count": 5,
   "id": "8791d0b1",
   "metadata": {},
   "outputs": [],
   "source": [
    "## creating array from list"
   ]
  },
  {
   "cell_type": "code",
   "execution_count": 4,
   "id": "d7719982",
   "metadata": {},
   "outputs": [
    {
     "name": "stdout",
     "output_type": "stream",
     "text": [
      "1D Array: [1 2 3 4 5]\n",
      "2D Array: [[1 2 3 4 5]\n",
      " [1 2 3 4 5]]\n"
     ]
    }
   ],
   "source": [
    "arr_1d = np.array([1, 2, 3, 4, 5])\n",
    "print(\"1D Array:\", arr_1d)\n",
    "\n",
    "\n",
    "arr_2d = np.array([[1,2,3,4,5],[1,2,3,4,5]])\n",
    "print(\"2D Array:\", arr_2d)"
   ]
  },
  {
   "cell_type": "markdown",
   "id": "4f3d5e07",
   "metadata": {},
   "source": [
    "### List vs Numpy"
   ]
  },
  {
   "cell_type": "code",
   "execution_count": 10,
   "id": "aac76e92",
   "metadata": {},
   "outputs": [
    {
     "name": "stdout",
     "output_type": "stream",
     "text": [
      "python list multiplication [1, 2, 3, 1, 2, 3]\n",
      "numpy array multiplication [2 4 6]\n",
      "python list time 0.0006954669952392578\n",
      "numpy array time 0.00160980224609375\n"
     ]
    }
   ],
   "source": [
    "py_list = [1,2,3]\n",
    "print(\"python list multiplication\", py_list*2)\n",
    "\n",
    "np_array = np.array([1,2,3])\n",
    "print(\"numpy array multiplication\", np_array*2)\n",
    "\n",
    "\n",
    "import time\n",
    "\n",
    "start = time.time()\n",
    "py_list = [i*2 for i in range(10000)]\n",
    "print(\"python list time\", time.time()-start)\n",
    "\n",
    "start = time.time()\n",
    "np_array = np.array([i for i in range(10000)])\n",
    "np_array = np_array * 2\n",
    "print(\"numpy array time\", time.time()-start)"
   ]
  },
  {
   "cell_type": "markdown",
   "id": "da1b86f2",
   "metadata": {},
   "source": [
    "### creating array from scratch\n"
   ]
  },
  {
   "cell_type": "code",
   "execution_count": 13,
   "id": "d41242e3",
   "metadata": {},
   "outputs": [
    {
     "name": "stdout",
     "output_type": "stream",
     "text": [
      "zeroes array [[0. 0. 0. 0.]\n",
      " [0. 0. 0. 0.]\n",
      " [0. 0. 0. 0.]]\n",
      "ones array [[1. 1. 1.]\n",
      " [1. 1. 1.]]\n"
     ]
    }
   ],
   "source": [
    "zeroes  = np.zeros((3, 4))\n",
    "print(\"zeroes array\", zeroes)\n",
    "\n",
    "\n",
    "ones = np.ones((2,3))\n",
    "print(\"ones array\", ones)"
   ]
  }
 ],
 "metadata": {
  "kernelspec": {
   "display_name": "venv (3.12.1)",
   "language": "python",
   "name": "python3"
  },
  "language_info": {
   "codemirror_mode": {
    "name": "ipython",
    "version": 3
   },
   "file_extension": ".py",
   "mimetype": "text/x-python",
   "name": "python",
   "nbconvert_exporter": "python",
   "pygments_lexer": "ipython3",
   "version": "3.12.1"
  }
 },
 "nbformat": 4,
 "nbformat_minor": 5
}
